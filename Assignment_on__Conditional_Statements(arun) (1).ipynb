{
  "nbformat": 4,
  "nbformat_minor": 0,
  "metadata": {
    "colab": {
      "provenance": []
    },
    "kernelspec": {
      "name": "python3",
      "display_name": "Python 3"
    },
    "language_info": {
      "name": "python"
    }
  },
  "cells": [
    {
      "cell_type": "markdown",
      "source": [
        "Take three numbers 'x', 'y' and 'z' as input from the user and check which number is greater\n"
      ],
      "metadata": {
        "id": "AcR_27Hh5QTe"
      }
    },
    {
      "cell_type": "code",
      "source": [
        "x=int(input('enter value of x'))\n",
        "y=int(input('enter value of y'))\n",
        "z=int(input('enter value of z'))\n",
        "\n",
        "if x>y:\n",
        "  print('x is the greater')\n",
        "\n",
        "elif y>z:\n",
        "  print('y is the greater')\n",
        "\n",
        "else:\n",
        "  print('z is the greater')"
      ],
      "metadata": {
        "id": "ZqmjTxbD5QG4",
        "colab": {
          "base_uri": "https://localhost:8080/"
        },
        "outputId": "1a3042a1-ebc3-405f-8712-57699ccc8c54"
      },
      "execution_count": null,
      "outputs": [
        {
          "output_type": "stream",
          "name": "stdout",
          "text": [
            "enter value of x37\n",
            "enter value of y99\n",
            "enter value of z38\n",
            "y is the greater\n"
          ]
        }
      ]
    },
    {
      "cell_type": "markdown",
      "source": [
        "Take an alphabet as input from the user and check if the alphabet is a vowel, consonant or an exception\n",
        "\n",
        "\n",
        "Vowel - 'a','e','i','o','u'\n",
        "\n",
        "Exception - 'h', 'y'\n",
        "\n",
        "Consonant - rest other alphabets"
      ],
      "metadata": {
        "id": "QgkCsQlx4c5Y"
      }
    },
    {
      "cell_type": "code",
      "source": [
        "alpha=input('enter your alphabet')\n",
        "\n",
        "if alpha in ('a','e','i','o','u'):\n",
        "  print('alpha is the vowel')\n",
        "\n",
        "elif alpha in ('h','y'):\n",
        "  print('alpha is the exception')\n",
        "\n",
        "else:\n",
        "  print('alpha is the consonant')"
      ],
      "metadata": {
        "id": "mTRgMPbt4dTk",
        "colab": {
          "base_uri": "https://localhost:8080/"
        },
        "outputId": "ac7909ba-c789-4781-9c57-ed21d4d219b3"
      },
      "execution_count": null,
      "outputs": [
        {
          "output_type": "stream",
          "name": "stdout",
          "text": [
            "enter your alphabetz\n",
            "alpha is the consonant\n"
          ]
        }
      ]
    },
    {
      "cell_type": "markdown",
      "source": [
        "Write a program to check whether a number given by a user is divisible by 2 and 3 both"
      ],
      "metadata": {
        "id": "5TqcIsuG4N4x"
      }
    },
    {
      "cell_type": "code",
      "source": [
        "x=int(input('enter value of x'))\n",
        "\n",
        "if x%2==0 and x%3==0:\n",
        "  print('x is divisble by 2 & 3')\n",
        "\n",
        "else:\n",
        "  print('x is not divisble by 2 & 3')"
      ],
      "metadata": {
        "colab": {
          "base_uri": "https://localhost:8080/"
        },
        "id": "SS2TNkt8_EEh",
        "outputId": "7015e826-8c4d-4fb1-8cb9-29cf937300a2"
      },
      "execution_count": null,
      "outputs": [
        {
          "output_type": "stream",
          "name": "stdout",
          "text": [
            "enter value of x46\n",
            "x is not divisble by 2 & 3\n"
          ]
        }
      ]
    },
    {
      "cell_type": "markdown",
      "source": [
        "Write a program to accept the cost price  of a bike as input and display the road tax to be paid according to the following crieteria :-\n",
        "\n",
        "Cost price - 100000 Tax - 15%\n",
        "\n",
        "Cost price - between 50000 to 100000 Tax - 10%\n",
        "\n",
        "Cost price - less than 50000 Tax - 5%"
      ],
      "metadata": {
        "id": "Vl0l7eM93o-k"
      }
    },
    {
      "cell_type": "code",
      "source": [
        "bike=int(input('enter value of bike'))\n",
        "\n",
        "if bike>100000:\n",
        "  print('tax of bike is', bike*0.15)\n",
        "\n",
        "elif bike>=50000:\n",
        "  print('tax of bike is', bike*0.10)\n",
        "\n",
        "else:\n",
        "  print('tax of bike is', bike*0.05)"
      ],
      "metadata": {
        "id": "TdHw-M2Z3lkL",
        "colab": {
          "base_uri": "https://localhost:8080/"
        },
        "outputId": "6e2dd3ae-f21f-4d48-f548-819f0ce790d3"
      },
      "execution_count": null,
      "outputs": [
        {
          "output_type": "stream",
          "name": "stdout",
          "text": [
            "enter value of bike37283\n",
            "tax of bike is 1864.15\n"
          ]
        }
      ]
    },
    {
      "cell_type": "markdown",
      "source": [
        "Write a program to calculate the electricity bill by accepting the number of units consumed by the user as input. Use the following price chart for reference :-\n",
        "\n",
        "Price of first 100 units - no charge\n",
        "\n",
        "Price of next 100 units - Rs 5/- per unit\n",
        "\n",
        "After 200 units - Rs 10/- per unit"
      ],
      "metadata": {
        "id": "4qwB-dyV2vdv"
      }
    },
    {
      "cell_type": "code",
      "source": [
        "unit=int(input('enter consumed electricity units'))\n",
        "\n",
        "if unit<=100:\n",
        "  print('no charges of your electricity bill')\n",
        "\n",
        "elif unit<=200:\n",
        "  print('your electricity bill charge will be', (unit-100)*5)\n",
        "\n",
        "else:\n",
        "  print('your electricity bill charge will be', (unit-100)*5+(unit-200)*5)"
      ],
      "metadata": {
        "colab": {
          "base_uri": "https://localhost:8080/"
        },
        "id": "AiD6o3y7S9Gv",
        "outputId": "c8fea9e2-6036-4940-c27d-ae9b5d7ba308"
      },
      "execution_count": null,
      "outputs": [
        {
          "output_type": "stream",
          "name": "stdout",
          "text": [
            "enter consumed electricity units250\n",
            "your electricity bill charge will be 1000\n"
          ]
        }
      ]
    }
  ]
}