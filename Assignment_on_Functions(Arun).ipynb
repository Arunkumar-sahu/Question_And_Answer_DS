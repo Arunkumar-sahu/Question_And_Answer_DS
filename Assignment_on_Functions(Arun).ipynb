{
  "nbformat": 4,
  "nbformat_minor": 0,
  "metadata": {
    "colab": {
      "provenance": []
    },
    "kernelspec": {
      "name": "python3",
      "display_name": "Python 3"
    },
    "language_info": {
      "name": "python"
    }
  },
  "cells": [
    {
      "cell_type": "markdown",
      "source": [
        "Define a function that accepts a number and returns whether the number is even or odd."
      ],
      "metadata": {
        "id": "SA0zwy1HTiK-"
      }
    },
    {
      "cell_type": "code",
      "source": [
        "def num(n):\n",
        "\n",
        " if n%2==0:\n",
        "  print('number is even')\n",
        "\n",
        " else:\n",
        "  print('number is odd')"
      ],
      "metadata": {
        "id": "NBE_zh3WnMlM"
      },
      "execution_count": null,
      "outputs": []
    },
    {
      "cell_type": "code",
      "source": [
        "num(3247)"
      ],
      "metadata": {
        "colab": {
          "base_uri": "https://localhost:8080/"
        },
        "id": "MAh0A-LjngmY",
        "outputId": "e2796344-54bd-4ea5-c892-459077a8a3e5"
      },
      "execution_count": null,
      "outputs": [
        {
          "output_type": "stream",
          "name": "stdout",
          "text": [
            "number is odd\n"
          ]
        }
      ]
    },
    {
      "cell_type": "code",
      "source": [
        "num(49250)"
      ],
      "metadata": {
        "colab": {
          "base_uri": "https://localhost:8080/"
        },
        "id": "TioLt6n4oChg",
        "outputId": "a2674a95-c832-4bdd-9893-3b5587b6831d"
      },
      "execution_count": null,
      "outputs": [
        {
          "output_type": "stream",
          "name": "stdout",
          "text": [
            "number is even\n"
          ]
        }
      ]
    },
    {
      "cell_type": "markdown",
      "source": [
        "Define a function to create and print a list where the values are square of numbers between 1 and 30 (both included)."
      ],
      "metadata": {
        "id": "eFB9qeBSTxRd"
      }
    },
    {
      "cell_type": "code",
      "source": [
        "def square():\n",
        "  l=list()\n",
        "\n",
        "  for i in range(1,31):\n",
        "   l.append(i**2)\n",
        "  print(l)"
      ],
      "metadata": {
        "id": "dFhCNqX-owDS"
      },
      "execution_count": null,
      "outputs": []
    },
    {
      "cell_type": "code",
      "source": [
        "square()"
      ],
      "metadata": {
        "colab": {
          "base_uri": "https://localhost:8080/"
        },
        "id": "cotQBfG0pYzV",
        "outputId": "893fd0a7-f0ef-41c9-f61e-737eafb40e2b"
      },
      "execution_count": null,
      "outputs": [
        {
          "output_type": "stream",
          "name": "stdout",
          "text": [
            "[1, 4, 9, 16, 25, 36, 49, 64, 81, 100, 121, 144, 169, 196, 225, 256, 289, 324, 361, 400, 441, 484, 529, 576, 625, 676, 729, 784, 841, 900]\n"
          ]
        }
      ]
    },
    {
      "cell_type": "markdown",
      "source": [
        "Define a function, shut_down, that takes one parameter. Then, if the shut_down function receives a value equal to \"yes\", it should print \"Shutting down\". Alternatively, if value is equal to \"no\", then the function should print \"Shutdown aborted\". Finally, if shut_down gets anything other than those inputs, the function should print \"Sorry\"."
      ],
      "metadata": {
        "id": "WPKsEW0dUIZF"
      }
    },
    {
      "cell_type": "code",
      "source": [
        "def shut_down(a):\n",
        "\n",
        " if a=='yes':\n",
        "  print('shutting down')\n",
        "\n",
        " elif a=='no':\n",
        "  print('shutdown aborted')\n",
        "\n",
        " else:\n",
        "  print('sorry')"
      ],
      "metadata": {
        "id": "26aMg2drplIn"
      },
      "execution_count": null,
      "outputs": []
    },
    {
      "cell_type": "code",
      "source": [
        "shut_down('no')"
      ],
      "metadata": {
        "colab": {
          "base_uri": "https://localhost:8080/"
        },
        "id": "5O0zpAeKroKo",
        "outputId": "1f177847-d0a1-4b15-ba1b-bab28cc7e42a"
      },
      "execution_count": null,
      "outputs": [
        {
          "output_type": "stream",
          "name": "stdout",
          "text": [
            "shutdown aborted\n"
          ]
        }
      ]
    },
    {
      "cell_type": "markdown",
      "source": [
        "\n",
        "\n",
        "Define a function called \"by_three\" that takes a parameter called number. If that number is divisible by 3, \"by_three\" should print the cube of the number. Otherwise, by_three should print False."
      ],
      "metadata": {
        "id": "KosfqTW8Ur_1"
      }
    },
    {
      "cell_type": "code",
      "source": [
        "def by_three(number):\n",
        "\n",
        " if number%3==0:\n",
        "  print(number**3)\n",
        "\n",
        " else:\n",
        "  print('false')"
      ],
      "metadata": {
        "id": "wFVjaaZnr6am"
      },
      "execution_count": null,
      "outputs": []
    },
    {
      "cell_type": "code",
      "source": [
        "by_three(9)"
      ],
      "metadata": {
        "colab": {
          "base_uri": "https://localhost:8080/"
        },
        "id": "6WkLbEZEtGGh",
        "outputId": "cd4b83de-c8a2-428b-f9d1-ddc967123e41"
      },
      "execution_count": null,
      "outputs": [
        {
          "output_type": "stream",
          "name": "stdout",
          "text": [
            "729\n"
          ]
        }
      ]
    },
    {
      "cell_type": "code",
      "source": [
        "by_three(7)"
      ],
      "metadata": {
        "colab": {
          "base_uri": "https://localhost:8080/"
        },
        "id": "h-LXkeU2tbeG",
        "outputId": "ab2d3026-a404-4bed-918a-be2d5629555d"
      },
      "execution_count": null,
      "outputs": [
        {
          "output_type": "stream",
          "name": "stdout",
          "text": [
            "false\n"
          ]
        }
      ]
    },
    {
      "cell_type": "markdown",
      "source": [
        "Define a function that takes a list and prints a new list with no duplicate elements given in the first list."
      ],
      "metadata": {
        "id": "EWbQXeU5WpdZ"
      }
    },
    {
      "cell_type": "code",
      "source": [
        "def list(l):\n",
        "  x = []\n",
        "  for a in l:\n",
        "    if a not in x:\n",
        "      x.append(a)\n",
        "  print(x)"
      ],
      "metadata": {
        "id": "9Nl4ZfWXtfkC"
      },
      "execution_count": null,
      "outputs": []
    },
    {
      "cell_type": "code",
      "source": [
        "list([3,9,7,8,3,4,6,7,9])"
      ],
      "metadata": {
        "colab": {
          "base_uri": "https://localhost:8080/"
        },
        "id": "DiVUYDRQusp3",
        "outputId": "979c9cd1-c337-44fa-df7b-cd4a66de3999"
      },
      "execution_count": null,
      "outputs": [
        {
          "output_type": "stream",
          "name": "stdout",
          "text": [
            "[3, 9, 7, 8, 4, 6]\n"
          ]
        }
      ]
    },
    {
      "cell_type": "markdown",
      "source": [
        "Define a function that checks whether a passed string is palindrome or not."
      ],
      "metadata": {
        "id": "aU7jXWoHW4AR"
      }
    },
    {
      "cell_type": "code",
      "source": [
        "def Palindrome(a):\n",
        "    print(a[::-1])"
      ],
      "metadata": {
        "id": "2nuHpyLKveWn"
      },
      "execution_count": null,
      "outputs": []
    },
    {
      "cell_type": "code",
      "source": [
        "Palindrome('ARUN KUMAR SAHU')"
      ],
      "metadata": {
        "colab": {
          "base_uri": "https://localhost:8080/"
        },
        "id": "Q99r5uzTvoAp",
        "outputId": "de072544-212f-4ae3-ecd4-931bc6e9669d"
      },
      "execution_count": null,
      "outputs": [
        {
          "output_type": "stream",
          "name": "stdout",
          "text": [
            "UHAS RAMUK NURA\n"
          ]
        }
      ]
    }
  ]
}