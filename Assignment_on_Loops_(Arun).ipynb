{
  "nbformat": 4,
  "nbformat_minor": 0,
  "metadata": {
    "colab": {
      "provenance": []
    },
    "kernelspec": {
      "name": "python3",
      "display_name": "Python 3"
    },
    "language_info": {
      "name": "python"
    }
  },
  "cells": [
    {
      "cell_type": "markdown",
      "source": [
        "Write a program which accepts month's name as input and display the number of days in the month as output"
      ],
      "metadata": {
        "id": "MdAkQQ_Y4wwG"
      }
    },
    {
      "cell_type": "code",
      "source": [
        "month=input('enter month name')\n",
        "\n",
        "if month == 'february':\n",
        "  print('28 or 29 days in this month')\n",
        "\n",
        "elif month in('january','march','may','july','august','october','december'):\n",
        "  print('31 days in this month')\n",
        "\n",
        "elif month in('april','june','september','november'):\n",
        "  print('30 days in this month')\n",
        "\n",
        "else:\n",
        "  print('wrong month name')"
      ],
      "metadata": {
        "colab": {
          "base_uri": "https://localhost:8080/"
        },
        "id": "CzhCX-sVd5QR",
        "outputId": "f285da8c-4bfa-418c-8f5c-e71aed2c630e"
      },
      "execution_count": null,
      "outputs": [
        {
          "output_type": "stream",
          "name": "stdout",
          "text": [
            "enter month namedecember\n",
            "31 days in this month\n"
          ]
        }
      ]
    },
    {
      "cell_type": "markdown",
      "source": [
        "Take any word as input from the user and count the number of vowels in the word"
      ],
      "metadata": {
        "id": "Q8cCBC198J6M"
      }
    },
    {
      "cell_type": "code",
      "source": [
        "word=input('enter a word')\n",
        "\n",
        "vowel=0\n",
        "\n",
        "for letter in word:\n",
        "  if letter in('a','e','i','o','u'):\n",
        "   vowel=vowel+ 1\n",
        "   print('number of vowel in this word', vowel)"
      ],
      "metadata": {
        "colab": {
          "base_uri": "https://localhost:8080/"
        },
        "id": "c6a45s6hizJA",
        "outputId": "11800ca3-774f-485d-b2d3-3f82b5246752"
      },
      "execution_count": null,
      "outputs": [
        {
          "output_type": "stream",
          "name": "stdout",
          "text": [
            "enter a wordeye\n",
            "number of vowel in this word 1\n",
            "number of vowel in this word 2\n"
          ]
        }
      ]
    },
    {
      "cell_type": "markdown",
      "source": [
        "Write a program to separate even and odd numbers in two distinct lists from a list of numbers of your choice"
      ],
      "metadata": {
        "id": "1ugWwVXd49OI"
      }
    },
    {
      "cell_type": "code",
      "source": [
        "my_list=[29,38,49,26,4,28,1,402,9]\n",
        "\n",
        "even=[]\n",
        "odd=[]\n",
        "\n",
        "for i in my_list:\n",
        "\n",
        "  if i%2==0:\n",
        "   even.append(i)\n",
        "\n",
        "  else:\n",
        "    odd.append(i)\n",
        "\n",
        "print(even)\n",
        "print(odd)"
      ],
      "metadata": {
        "colab": {
          "base_uri": "https://localhost:8080/"
        },
        "id": "CTDRhztQu8jQ",
        "outputId": "8a1a5a59-a33a-4ab7-d191-2531d38a3f14"
      },
      "execution_count": null,
      "outputs": [
        {
          "output_type": "stream",
          "name": "stdout",
          "text": [
            "[38, 26, 4, 28, 402]\n",
            "[29, 49, 1, 9]\n"
          ]
        }
      ]
    },
    {
      "cell_type": "markdown",
      "source": [
        "Write a program that appends datatype of elements from a list to a separate list"
      ],
      "metadata": {
        "id": "uaqnGrhs49Mf"
      }
    },
    {
      "cell_type": "code",
      "source": [
        "my_list=['arun','kgf',12,-84,0.47,93,'golu',95]\n",
        "\n",
        "data_type=[]\n",
        "\n",
        "for i in my_list:\n",
        "  data_type.append(type(i))\n",
        "\n",
        "print(data_type)"
      ],
      "metadata": {
        "colab": {
          "base_uri": "https://localhost:8080/"
        },
        "id": "jpjyx1ArwZeb",
        "outputId": "6f0c331b-8161-4e97-fb55-9097a18a1c07"
      },
      "execution_count": null,
      "outputs": [
        {
          "output_type": "stream",
          "name": "stdout",
          "text": [
            "[<class 'str'>, <class 'str'>, <class 'int'>, <class 'int'>, <class 'float'>, <class 'int'>, <class 'str'>, <class 'int'>]\n"
          ]
        }
      ]
    },
    {
      "cell_type": "markdown",
      "source": [
        "Write a program to display only those numbers from a list that satisfies the following conditions:\n",
        "\n",
        "1. The number must be divisible by 7\n",
        "\n",
        "2. If the number is 140 then skip it and move to the next number in the list\n",
        "\n",
        "3. If the number in the list is greater than 630 then stop the loop"
      ],
      "metadata": {
        "id": "ddMu0Pj1643Y"
      }
    },
    {
      "cell_type": "code",
      "source": [
        "num=[21,37,49,126,140,380,540,637]\n",
        "\n",
        "for i in num:\n",
        "\n",
        " if i>630:\n",
        "  pass\n",
        "\n",
        " elif i==140:\n",
        "  continue\n",
        "\n",
        " elif i%7==0:\n",
        "  print(i)"
      ],
      "metadata": {
        "id": "230Qc9UHTK5-",
        "colab": {
          "base_uri": "https://localhost:8080/"
        },
        "outputId": "c798daee-85ef-4bb3-b066-3c14dc3a93e4"
      },
      "execution_count": null,
      "outputs": [
        {
          "output_type": "stream",
          "name": "stdout",
          "text": [
            "21\n",
            "49\n",
            "126\n"
          ]
        }
      ]
    }
  ]
}